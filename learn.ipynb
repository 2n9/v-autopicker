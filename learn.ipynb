{
  "nbformat": 4,
  "nbformat_minor": 0,
  "metadata": {
    "colab": {
      "name": "Untitled0.ipynb",
      "provenance": [],
      "private_outputs": true,
      "authorship_tag": "ABX9TyMWtBHRulE4COjDZOmFzMzl"
    },
    "kernelspec": {
      "name": "python3",
      "display_name": "Python 3"
    },
    "language_info": {
      "name": "python"
    },
    "accelerator": "GPU"
  },
  "cells": [
    {
      "cell_type": "code",
      "execution_count": null,
      "metadata": {
        "id": "f0dWWW89Ss7u"
      },
      "outputs": [],
      "source": [
        "from google.colab import drive\n",
        "drive.mount('/content/drive')"
      ]
    },
    {
      "cell_type": "code",
      "source": [
        "from PIL import Image, ImageDraw\n",
        "import numpy as np\n",
        "import pandas as pd\n",
        "import glob as glob\n",
        "import shutil\n",
        "import os\n",
        "import cv2\n",
        "import time\n",
        "import math\n",
        "\n",
        "def main(img_back, img_front, left, top):\n",
        "    img = eval(\"putSprite_npwhere\")(img_back, img_front, (left, top))\n",
        "    return img\n",
        "\n",
        "def putSprite_npwhere(back, front, pos):\n",
        "    x, y = pos\n",
        "    fh, fw = front.shape[:2]\n",
        "    bh, bw = back.shape[:2]\n",
        "    x1, y1 = max(x, 0), max(y, 0)\n",
        "    x2, y2 = min(x + fw, bw), min(y + fh, bh)\n",
        "    if not ((-fw < x < bw) and (-fh < y < bh)):\n",
        "        return back\n",
        "    front3 = front[:, :, :3]\n",
        "    front_roi = front3[y1-y:y2-y, x1-x:x2-x]\n",
        "    roi = back[y1:y2, x1:x2]\n",
        "    tmp = np.where(front_roi==(0,0,0), roi, front_roi)\n",
        "    back[y1:y2, x1:x2] = tmp\n",
        "    return back\n",
        "\n",
        "def putSprite_mask(back, front, pos):\n",
        "    x, y = pos\n",
        "    fh, fw = front.shape[:2]\n",
        "    bh, bw = back.shape[:2]\n",
        "    x1, y1 = max(x, 0), max(y, 0)\n",
        "    x2, y2 = min(x + fw, bw), min(y + fh, bh)\n",
        "    if not ((-fw < x < bw) and (-fh < y < bh)):\n",
        "        return back\n",
        "    front3 = front[:, :, :3]\n",
        "    mask1 = front[:, :, :3]\n",
        "    mask3 = 255 - cv2.merge((mask1, mask1, mask1))\n",
        "    mask_roi = mask3[y1-y:y2-y, x1-x:x2-x]\n",
        "    front_roi = front3[y1-y:y2-y, x1-x:x2-x]\n",
        "    roi = back[y1:y2, x1:x2]\n",
        "    tmp = cv2.bitwise_and(roi, mask_roi)\n",
        "    tmp = cv2.bitwise_or(tmp, front_roi)\n",
        "    back[y1:y2, x1:x2] = tmp\n",
        "    return back\n",
        "\n",
        "def iou(a, b):\n",
        "    ax_mn, ay_mn, ax_mx, ay_mx = a[0], a[1], a[2], a[3]\n",
        "    bx_mn, by_mn, bx_mx, by_mx = b[0], b[1], b[2], b[3]\n",
        "\n",
        "    a_area = (ax_mx - ax_mn + 1) * (ay_mx - ay_mn + 1)\n",
        "    b_area = (bx_mx - bx_mn + 1) * (by_mx - by_mn + 1)\n",
        "\n",
        "    abx_mn = max(ax_mn, bx_mn)\n",
        "    abx_mx = min(ax_mx, bx_mx)\n",
        "    aby_mn = max(ay_mn, by_mn)\n",
        "    aby_mx = min(ay_mx, by_mx)\n",
        "    w = max(0, abx_mx - abx_mn + 1)\n",
        "    h = max(0, aby_mx - aby_mn + 1)\n",
        "    area = w * h\n",
        "    iou = area / (a_area + b_area - area)\n",
        "    return iou\n",
        "\n",
        "def radian(img):\n",
        "    angle = np.random.choice(np.arange(361), 1, replace=True)[0]\n",
        "    angle_rad = np.deg2rad(angle)\n",
        "    h, w = img.shape[:2]\n",
        "    size = (w, h)\n",
        "    w_rot = int(np.round(h * np.absolute(np.sin(angle_rad)) + w * np.absolute(np.cos(angle_rad))))\n",
        "    h_rot = int(np.round(h * np.absolute(np.cos(angle_rad)) + w * np.absolute(np.sin(angle_rad))))\n",
        "    size_rot = (w_rot, h_rot)\n",
        "    center = (w / 2, h / 2)\n",
        "    scale = 1.0\n",
        "    rotation_matrix = cv2.getRotationMatrix2D(center, angle, scale)\n",
        "    affine_matrix = rotation_matrix.copy()\n",
        "    affine_matrix[0][2] = affine_matrix[0][2] -w / 2 + w_rot / 2\n",
        "    affine_matrix[1][2] = affine_matrix[1][2] -h / 2 + h_rot / 2\n",
        "    img_rot = cv2.warpAffine(img, affine_matrix, size_rot, flags=cv2.INTER_CUBIC)\n",
        "    return img_rot\n",
        "\n",
        "file = '/content/drive/MyDrive/source/background.png'\n",
        "background = cv2.imread(file, -1)\n",
        "\n",
        "filepaths = glob.glob('/content/drive/MyDrive/source/agent/*.png')\n",
        "\n",
        "agents = dict()\n",
        "dic = dict()\n",
        "arr = []\n",
        "for k, filepath in enumerate(filepaths):\n",
        "    base = os.path.basename(filepath).split(\".png\")[0]\n",
        "    agents[base] = cv2.imread(filepath, -1)\n",
        "    dic[base] = k\n",
        "    arr.append(base)\n",
        "\n",
        "num = 1000\n",
        "iters = 50\n",
        "for i in range(num):\n",
        "\n",
        "    h = background.copy()\n",
        "    p = np.random.choice(arr, iters, replace=True)\n",
        "    bboxs = []\n",
        "\n",
        "    for j in range(iters):\n",
        "        img = agents[p[j]]\n",
        "        k = np.random.choice(np.arange(100), 1, replace=True)\n",
        "        if k < 33:\n",
        "            c = np.random.choice(np.arange(50, 110)/100, 1, replace=True)\n",
        "            img = cv2.resize(img, dsize=None, fx=c[0], fy=c[0])\n",
        "        k = np.random.choice(np.arange(100), 1, replace=True)\n",
        "\n",
        "        if k < 33:\n",
        "            s = np.random.choice(np.arange(50, 100)/100, 1, replace=True)\n",
        "            v = np.random.choice(np.arange(50, 100)/100, 1, replace=True)\n",
        "            img_hsy = cv2.cvtColor(img, cv2.COLOR_BGR2HSV)\n",
        "            s_mag = s\n",
        "            v_mag = v\n",
        "            img_hsy[:, :, 1] = img_hsy[:, :, 1] * s_mag\n",
        "            img_hsy[:, :, 2] = img_hsy[:, :, 2] * v_mag\n",
        "            img = cv2.cvtColor(img_hsy, cv2.COLOR_HSV2BGR)\n",
        "        k = np.random.choice(np.arange(100), 1, replace=True)\n",
        "        \n",
        "        if k < 51:\n",
        "            img = radian(img)\n",
        "        \n",
        "        n = 0\n",
        "        while True:\n",
        "            n += 1\n",
        "            top = np.random.choice(np.arange(0, h.shape[0]), 1, replace=True)\n",
        "            left = np.random.choice(np.arange(0, h.shape[1]), 1, replace=True)\n",
        "            bottom = top + img.shape[0]\n",
        "            right = left + img.shape[1]\n",
        "            if bottom[0] < h.shape[0] and right[0] < h.shape[1]:\n",
        "                flag = False\n",
        "                for bbox in bboxs:\n",
        "                    if iou(bbox[:4], [left[0], top[0], right[0], bottom[0]]) > 0.1:\n",
        "                        flag = True\n",
        "                        break\n",
        "\n",
        "                if flag == False:\n",
        "                    break\n",
        "            \n",
        "            if n == 100:\n",
        "                break\n",
        "        \n",
        "        if flag == False:\n",
        "            h = main(h, img, left[0], top[0])\n",
        "            bboxs.append([left[0], top[0], right[0], bottom[0], p[j]])\n",
        "    \n",
        "    cv2.imwrite('/content/drive/MyDrive/dset/result/' + str(i) + '.png', h)\n",
        "    df = pd.DataFrame(bboxs)\n",
        "    df.columns = [\"xmin\", \"ymin\", \"xmax\", \"ymax\", \"label\"]\n",
        "    df[\"xmin\"] = df[\"xmin\"] / h.shape[1]\n",
        "    df[\"ymin\"] = df[\"ymin\"] / h.shape[0]\n",
        "    df[\"xmax\"] = df[\"xmax\"] / h.shape[1]\n",
        "    df[\"ymax\"] = df[\"ymax\"] / h.shape[0]\n",
        "    df[\"xcenter\"] = (df[\"xmin\"] + df[\"xmax\"]) / 2\n",
        "    df[\"ycenter\"] = (df[\"ymin\"] + df[\"ymax\"]) / 2\n",
        "    df[\"width\"] = df[\"xmax\"] - df[\"xmin\"]\n",
        "    df[\"height\"] = df[\"ymax\"] - df[\"ymin\"]\n",
        "    df[\"label_number\"] = [dic[i] for i in df[\"label\"]]\n",
        "    df = df[[\"label_number\", \"xcenter\", \"ycenter\", \"width\", \"height\"]]\n",
        "    txt = \"/content/drive/MyDrive/dset/result/\" + str(i) + \".txt\"\n",
        "    df.to_csv(txt, header=None, index=None, sep=\" \")\n",
        "\n",
        "    print(str(i) + \".png is done\")"
      ],
      "metadata": {
        "id": "K44CRJEvkRee"
      },
      "execution_count": null,
      "outputs": []
    },
    {
      "cell_type": "code",
      "source": [
        "!git clone https://github.com/ultralytics/yolov5\n",
        "!pip install -r yolov5/requirements.txt"
      ],
      "metadata": {
        "id": "8W4W_tUpyDTd"
      },
      "execution_count": null,
      "outputs": []
    },
    {
      "cell_type": "code",
      "source": [
        "!pip install wandb"
      ],
      "metadata": {
        "id": "N2b-HZ9_wmyN"
      },
      "execution_count": null,
      "outputs": []
    },
    {
      "cell_type": "code",
      "source": [
        "!pwd\n",
        "!ls\n",
        "!python train.py --img 1080 --batch 8 --epochs 10 --data /content/drive/MyDrive/dset/dataset.yaml --weights yolov5s.pt"
      ],
      "metadata": {
        "id": "aCW-E-5KofL4"
      },
      "execution_count": null,
      "outputs": []
    },
    {
      "cell_type": "code",
      "source": [
        "!pwd\n",
        "!ls runs"
      ],
      "metadata": {
        "id": "CqXt52WcFhgu"
      },
      "execution_count": null,
      "outputs": []
    },
    {
      "cell_type": "code",
      "source": [
        ""
      ],
      "metadata": {
        "id": "0zdZkkJgFjQo"
      },
      "execution_count": null,
      "outputs": []
    }
  ]
}